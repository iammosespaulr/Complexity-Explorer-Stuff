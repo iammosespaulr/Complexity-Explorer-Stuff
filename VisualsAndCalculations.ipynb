{
 "cells": [
  {
   "cell_type": "code",
   "execution_count": 1,
   "metadata": {},
   "outputs": [],
   "source": [
    "import matplotlib\n",
    "import numpy as np\n",
    "import matplotlib.pyplot as plt\n",
    "import sympy as sp\n",
    "from ipywidgets import interact, interactive, fixed, interact_manual\n",
    "import ipywidgets as widgets\n",
    "import scipy as scp\n",
    "%matplotlib inline  "
   ]
  },
  {
   "cell_type": "markdown",
   "metadata": {},
   "source": [
    "### Solving for Fixed Points in IFS"
   ]
  },
  {
   "cell_type": "markdown",
   "metadata": {},
   "source": [
    "$f(x) = x$"
   ]
  },
  {
   "cell_type": "code",
   "execution_count": 2,
   "metadata": {},
   "outputs": [],
   "source": [
    "x,y = sp.symbols('x y')"
   ]
  },
  {
   "cell_type": "code",
   "execution_count": 3,
   "metadata": {},
   "outputs": [],
   "source": [
    "def f(x):\n",
    "    return x ** 3"
   ]
  },
  {
   "cell_type": "code",
   "execution_count": 4,
   "metadata": {
    "scrolled": true
   },
   "outputs": [
    {
     "data": {
      "text/plain": [
       "[-1, 0, 1]"
      ]
     },
     "execution_count": 4,
     "metadata": {},
     "output_type": "execute_result"
    }
   ],
   "source": [
    "# Fixed Points\n",
    "sp.solve(sp.Eq(x,f(x)),x)"
   ]
  },
  {
   "cell_type": "code",
   "execution_count": 5,
   "metadata": {},
   "outputs": [
    {
     "data": {
      "text/plain": [
       "[5]"
      ]
     },
     "execution_count": 5,
     "metadata": {},
     "output_type": "execute_result"
    }
   ],
   "source": [
    "sp.solve(sp.Eq(x,(3 * x) - 10),x)"
   ]
  },
  {
   "cell_type": "markdown",
   "metadata": {},
   "source": [
    "### Iterating IFS"
   ]
  },
  {
   "cell_type": "code",
   "execution_count": 6,
   "metadata": {},
   "outputs": [
    {
     "name": "stdout",
     "output_type": "stream",
     "text": [
      "-0.5\n",
      "-0.125000000000000\n",
      "-0.00195312500000000\n"
     ]
    }
   ],
   "source": [
    "xn = -0.5\n",
    "n = 2\n",
    "for i in range(0,n+1):\n",
    "    print(xn)\n",
    "    xn = f(x).subs(x,xn)"
   ]
  },
  {
   "cell_type": "code",
   "execution_count": 7,
   "metadata": {},
   "outputs": [
    {
     "data": {
      "text/latex": [
       "$\\displaystyle x_{n+1} = r x_{n} \\left(1 - x_{n}\\right)$"
      ],
      "text/plain": [
       "Eq(x_n+1, r*x_n*(1 - x_n))"
      ]
     },
     "execution_count": 7,
     "metadata": {},
     "output_type": "execute_result"
    }
   ],
   "source": [
    "x_np1, x_n, r = sp.symbols('x_n+1 x_n r')\n",
    "eqn = sp.Eq(x_np1, r * x_n * (1 - x_n));eqn"
   ]
  },
  {
   "cell_type": "markdown",
   "metadata": {},
   "source": [
    "### Eulers Method"
   ]
  },
  {
   "cell_type": "markdown",
   "metadata": {},
   "source": [
    "$X(t + \\delta t) = X(t) + (dX/dt * \\delta t)$"
   ]
  },
  {
   "cell_type": "code",
   "execution_count": 8,
   "metadata": {},
   "outputs": [],
   "source": [
    "x_, x, x0 = sp.symbols('x_ x x0')"
   ]
  },
  {
   "cell_type": "code",
   "execution_count": 9,
   "metadata": {},
   "outputs": [],
   "source": [
    "x_ = 0.2 * (20 - x)"
   ]
  },
  {
   "cell_type": "code",
   "execution_count": 10,
   "metadata": {},
   "outputs": [],
   "source": [
    "timestep = 0.5\n",
    "x0 = 5"
   ]
  },
  {
   "cell_type": "code",
   "execution_count": 11,
   "metadata": {},
   "outputs": [
    {
     "name": "stdout",
     "output_type": "stream",
     "text": [
      "5\n",
      "6.50000000000000\n",
      "7.85000000000000\n",
      "9.06500000000000\n",
      "10.1585000000000\n",
      "11.1426500000000\n",
      "12.0283850000000\n",
      "12.8255465000000\n",
      "13.5429918500000\n",
      "14.1886926650000\n"
     ]
    }
   ],
   "source": [
    "xi = x0\n",
    "for i in range(10):\n",
    "    print(xi)\n",
    "    xi += (x_.subs(x, xi) * timestep)\n"
   ]
  },
  {
   "cell_type": "markdown",
   "metadata": {},
   "source": [
    "### Plotting Logistic Map Time Series"
   ]
  },
  {
   "cell_type": "code",
   "execution_count": 12,
   "metadata": {},
   "outputs": [
    {
     "data": {
      "application/vnd.jupyter.widget-view+json": {
       "model_id": "e8556557b11442d1b0a29bdc0bb94919",
       "version_major": 2,
       "version_minor": 0
      },
      "text/plain": [
       "interactive(children=(FloatSlider(value=0.5, description='x_0', max=1.0), FloatSlider(value=3.5, description='…"
      ]
     },
     "metadata": {},
     "output_type": "display_data"
    }
   ],
   "source": [
    "def plotty(x_0, r, n, Enable_list):\n",
    "    x_n_val = x_0\n",
    "    arr_val = []\n",
    "    for i in range(n):\n",
    "        arr_val.append(x_n_val)\n",
    "        x_n_val = r * x_n_val * (1 - x_n_val)\n",
    "    plt.plot(arr_val, '.-')\n",
    "    plt.xlim(0, n - 1)\n",
    "    plt.ylim(0, 1)\n",
    "    if Enable_list:\n",
    "        return arr_val\n",
    "interact(plotty, \n",
    "         x_0=widgets.FloatSlider(min=0, max=1, step=0.1, value=0.5),\n",
    "         r=widgets.FloatSlider(min=0, max=5, step=0.01, value=3.50),\n",
    "         n=widgets.IntSlider(min=1, max=1000, step=1, value=35), Enable_list=False);"
   ]
  },
  {
   "cell_type": "markdown",
   "metadata": {},
   "source": [
    "### Plotting SDIC for the Logistic Map given two different Initial Values."
   ]
  },
  {
   "cell_type": "code",
   "execution_count": 13,
   "metadata": {},
   "outputs": [
    {
     "data": {
      "application/vnd.jupyter.widget-view+json": {
       "model_id": "59830bc7a73d47128eb4fcabdbe7cc40",
       "version_major": 2,
       "version_minor": 0
      },
      "text/plain": [
       "interactive(children=(FloatSlider(value=0.5235987755982988, description='x_0', max=1.0, step=0.01), FloatSlide…"
      ]
     },
     "metadata": {},
     "output_type": "display_data"
    },
    {
     "data": {
      "text/plain": [
       "<function __main__.plotty2(x_0, y_0, r, n)>"
      ]
     },
     "execution_count": 13,
     "metadata": {},
     "output_type": "execute_result"
    }
   ],
   "source": [
    "def plotty2(x_0, y_0, r, n):\n",
    "    x_n_val = x_0\n",
    "    y_n_val = y_0\n",
    "    arr_val = []\n",
    "    arr_val2 = []\n",
    "    for i in range(n):\n",
    "        arr_val.append(x_n_val)\n",
    "        arr_val2.append(y_n_val)\n",
    "        x_n_val = r * x_n_val * (1 - x_n_val)\n",
    "        y_n_val = r * y_n_val * (1 - y_n_val)\n",
    "    plt.subplot(2,1,1)\n",
    "    plt.plot(arr_val, '.-')\n",
    "    plt.plot(arr_val2, '.-')\n",
    "    plt.xlim(0, n - 1)\n",
    "    plt.ylim(0, 1)\n",
    "    plt.subplot(2,1,2)\n",
    "    plt.ylim(-1, 1)\n",
    "    plt.xlim(0, n - 1)\n",
    "    newl = np.subtract(arr_val, arr_val2)\n",
    "    plt.plot(newl, '.-')\n",
    "    plt.text(n, 0, 'Mean Diff is {}'.format(np.mean(newl)))\n",
    "    plt.text(n, 0.5, 'Std Dev is {}'.format(np.std(newl)))\n",
    "interact(plotty2, \n",
    "         x_0=widgets.FloatSlider(min=0, max=1, step=0.01, value=np.pi/6),\n",
    "         y_0=widgets.FloatSlider(min=0, max=1, step=0.01, value=np.pi/4),\n",
    "         r=widgets.FloatSlider(min=0, max=5, step=0.01, value=2.40),\n",
    "         n=widgets.IntSlider(min=1, max=100, step=1, value=35))"
   ]
  },
  {
   "cell_type": "markdown",
   "metadata": {},
   "source": [
    "### Checking for Randomness using the Logistic Map by Implementing a Threshold."
   ]
  },
  {
   "cell_type": "code",
   "execution_count": 16,
   "metadata": {},
   "outputs": [
    {
     "data": {
      "image/png": "[encoded data removed]",
      "text/plain": [
       "<Figure size 432x288 with 1 Axes>"
      ]
     },
     "metadata": {
      "needs_background": "light"
     },
     "output_type": "display_data"
    },
    {
     "data": {
      "application/vnd.jupyter.widget-view+json": {
       "model_id": "940fbf0496384c32b87f41aa548642d1",
       "version_major": 2,
       "version_minor": 0
      },
      "text/plain": [
       "interactive(children=(FloatSlider(value=0.5, description='threshold', max=1.0, min=0.01, step=0.01), Output())…"
      ]
     },
     "metadata": {},
     "output_type": "display_data"
    }
   ],
   "source": [
    "value = np.array(plotty(0.2, 4, 30, True))\n",
    "@interact\n",
    "def lol(threshold=(0.01,1,0.01)):\n",
    "    val = np.copy(value)\n",
    "    val[val >= threshold] = 1\n",
    "    val[val < threshold] = 0\n",
    "    mean = np.mean(val)\n",
    "    print(\"Probability of Val > Threshold: \", mean, \";Probability ( Val < Threshold ): \",(1-mean))"
   ]
  },
  {
   "cell_type": "markdown",
   "metadata": {},
   "source": [
    "### Solving the Logisitic Differential Eqn."
   ]
  },
  {
   "cell_type": "code",
   "execution_count": 17,
   "metadata": {},
   "outputs": [
    {
     "data": {
      "text/latex": [
       "$\\displaystyle \\frac{d}{d t} p{\\left(t \\right)} = r \\left(1 - \\frac{p{\\left(t \\right)}}{k}\\right) p{\\left(t \\right)}$"
      ],
      "text/plain": [
       "Eq(Derivative(p(t), t), r*(1 - p(t)/k)*p(t))"
      ]
     },
     "execution_count": 17,
     "metadata": {},
     "output_type": "execute_result"
    }
   ],
   "source": [
    "t = sp.var('t')\n",
    "k = sp.var('k')\n",
    "r = sp.var('r')\n",
    "pf = sp.Function('p')\n",
    "h = sp.var('h')\n",
    "p = pf(t)\n",
    "dpdt = p.diff(t)\n",
    "expr = sp.Eq(dpdt, r*p*(1-p/k));expr"
   ]
  },
  {
   "cell_type": "code",
   "execution_count": 18,
   "metadata": {},
   "outputs": [
    {
     "data": {
      "text/latex": [
       "$\\displaystyle p{\\left(t \\right)} = \\frac{k n_{0} e^{r t}}{k + n_{0} e^{r t} - n_{0}}$"
      ],
      "text/plain": [
       "Eq(p(t), k*n_0*exp(r*t)/(k + n_0*exp(r*t) - n_0))"
      ]
     },
     "execution_count": 18,
     "metadata": {},
     "output_type": "execute_result"
    }
   ],
   "source": [
    "solved = sp.dsolve(expr, ics={pf(0):'n_0'}, simplify=True);nsolved = sp.simplify(solved);nsolved"
   ]
  },
  {
   "cell_type": "markdown",
   "metadata": {},
   "source": [
    "### Plotting the Logistic Differential Eqn"
   ]
  },
  {
   "cell_type": "code",
   "execution_count": 19,
   "metadata": {},
   "outputs": [
    {
     "data": {
      "application/vnd.jupyter.widget-view+json": {
       "model_id": "d098c96b45c340e18a416e70dc026093",
       "version_major": 2,
       "version_minor": 0
      },
      "text/plain": [
       "interactive(children=(FloatSlider(value=0.5, description='x_0', max=1.0), FloatSlider(value=3.5, description='…"
      ]
     },
     "metadata": {},
     "output_type": "display_data"
    }
   ],
   "source": [
    "def plotty1a(x_0, r, n, k, lis):\n",
    "    x_n_val = x_0\n",
    "    arr_val = []\n",
    "    for i in np.linspace(0,n,n*10):\n",
    "        arr_val.append(x_n_val)\n",
    "        x_n_val = nsolved.subs({'r':r,'k':k,t:i,'n_0':x_0}).args[1]\n",
    "    plt.plot(arr_val)\n",
    "    plt.xlim(0, n - 1)\n",
    "    plt.ylim(0, k + 2)\n",
    "    if lis:\n",
    "        return arr_val\n",
    "interact(plotty1a, \n",
    "         x_0=widgets.FloatSlider(min=0, max=1, step=0.1, value=0.5),\n",
    "         r=widgets.FloatSlider(min=0, max=5, step=0.01, value=3.50),\n",
    "         n=widgets.IntSlider(min=1, max=100, step=1, value=35),\n",
    "         k=widgets.IntSlider(min=1, max=100, step=1, value=1),\n",
    "         lis=False);"
   ]
  },
  {
   "cell_type": "markdown",
   "metadata": {},
   "source": [
    "### Solving the Logistic Differential Eqn using a Numerical solver"
   ]
  },
  {
   "cell_type": "code",
   "execution_count": 24,
   "metadata": {},
   "outputs": [
    {
     "data": {
      "application/vnd.jupyter.widget-view+json": {
       "model_id": "d5b66c5893624ae8a3d08d9cad45768c",
       "version_major": 2,
       "version_minor": 0
      },
      "text/plain": [
       "interactive(children=(FloatSlider(value=0.5, description='x_0', max=1.0), FloatSlider(value=3.5, description='…"
      ]
     },
     "metadata": {},
     "output_type": "display_data"
    }
   ],
   "source": [
    "from scipy.integrate import solve_ivp\n",
    "def plotty2a(x_0, r, n, k, lis):\n",
    "    sol = solve_ivp(lambda t, p: r*p*(1-p/k), [0, n], [x_0], method='DOP853')\n",
    "    plt.plot(sol.t, sol.y[0])    \n",
    "    plt.xlim(0, n - 1)\n",
    "    plt.ylim(0, k + 2)\n",
    "    if lis:\n",
    "        return sol.y[0]\n",
    "interact(plotty2a, \n",
    "         x_0=widgets.FloatSlider(min=0, max=1, step=0.1, value=0.5),\n",
    "         r=widgets.FloatSlider(min=0, max=5, step=0.01, value=3.50),\n",
    "         n=widgets.IntSlider(min=1, max=100, step=1, value=35),\n",
    "         k=widgets.IntSlider(min=1, max=100, step=1, value=1),\n",
    "         lis=False);"
   ]
  },
  {
   "cell_type": "markdown",
   "metadata": {},
   "source": [
    "### Plotting the Bifurcation Diagram for A couple of IFS"
   ]
  },
  {
   "cell_type": "code",
   "execution_count": 25,
   "metadata": {},
   "outputs": [
    {
     "data": {
      "application/vnd.jupyter.widget-view+json": {
       "model_id": "f7ac2807069e41c09b69d3faa50ee162",
       "version_major": 2,
       "version_minor": 0
      },
      "text/plain": [
       "interactive(children=(Dropdown(description='f', options=(('Logistic Map', <function <lambda> at 0x11c10a430>),…"
      ]
     },
     "metadata": {},
     "output_type": "display_data"
    },
    {
     "data": {
      "text/plain": [
       "<function __main__.haha(f=('Logistic Map', <function <lambda> at 0x113347c10>), r_0=0, r_m=4, n_0=100, n_m=500, x_0=0.1, s=1000)>"
      ]
     },
     "execution_count": 25,
     "metadata": {},
     "output_type": "execute_result"
    }
   ],
   "source": [
    "def haha(f = ('Logistic Map', lambda x, r: r*(1-x)*x), r_0 = 0, r_m = 4, n_0 = 100, n_m = 500, x_0 = 0.1, s = 1000):\n",
    "    r_i = np.linspace(r_0, r_m, s)\n",
    "    ys = []\n",
    "    for r in r_i:\n",
    "        x = x_0\n",
    "        for i in range(n_0):\n",
    "            x = f(x, r)\n",
    "        for i in range(n_m):\n",
    "            x = f(x, r)\n",
    "            ys.append([r, x])\n",
    "\n",
    "    ys = np.array(ys)\n",
    "    fig, ax = plt.subplots(figsize=(10,6))\n",
    "    ax.scatter(ys[:, 0], ys[:, 1], c='#003399', edgecolor='None', alpha=1, s=1)\n",
    "    plt.xlabel('Growth Rate')\n",
    "    plt.ylabel('Population')\n",
    "    plt.title('Bifurcation Diagram')\n",
    "    plt.tick_params(labelsize=15)\n",
    "    plt.xlim(r_0,r_m)\n",
    "    plt.show()\n",
    "interact(haha, \n",
    "         f = [('Logistic Map', lambda x, r: x * r * (1 - x)),\n",
    "                    ('Cubic Map', lambda x, r: r * x ** 3 + x * (1 - r)),\n",
    "                    ('Sine Map', lambda x, r: r*np.sin(np.pi * x/2))],\n",
    "         r_0 = widgets.FloatSlider(min=0, max=4, step=0.5, value=0),\n",
    "         r_m = widgets.FloatSlider(min=0, max=10, step=0.5, value=4),\n",
    "         n_0 = widgets.IntSlider(min=0, max=200, step=5, value=100),\n",
    "         n_m = widgets.IntSlider(min=0, max=2000, step=50, value=300),\n",
    "         x_0 = widgets.FloatSlider(min=0, max=1, step=0.1, value=0.1),\n",
    "         s = widgets.IntSlider(min=100, max=5000, step=10, value=1000),\n",
    "        )"
   ]
  },
  {
   "cell_type": "markdown",
   "metadata": {},
   "source": [
    "### Solving the Lotka-Volterra Diff Eqns ( Numerically )"
   ]
  },
  {
   "cell_type": "code",
   "execution_count": 26,
   "metadata": {},
   "outputs": [
    {
     "data": {
      "application/vnd.jupyter.widget-view+json": {
       "model_id": "e34d83c3c09847d5ab670c27ea7455ac",
       "version_major": 2,
       "version_minor": 0
      },
      "text/plain": [
       "interactive(children=(FloatSlider(value=10.0, description='x_0', step=0.5), FloatSlider(value=6.0, description…"
      ]
     },
     "metadata": {},
     "output_type": "display_data"
    },
    {
     "data": {
      "text/plain": [
       "<function __main__.lotkavol(x_0, y_0, a, b, c, d, n, no_of_values)>"
      ]
     },
     "execution_count": 26,
     "metadata": {},
     "output_type": "execute_result"
    }
   ],
   "source": [
    "def lotkavol(x_0, y_0, a, b, c, d, n, no_of_values):\n",
    "    def lotkavolterra(t, z, a, b, c, d):\n",
    "        x, y = z\n",
    "        return [ \n",
    "            a*x - b*x*y, ## dR/dt\n",
    "            -c*y + d*x*y ## dF/dt\n",
    "               ]\n",
    "    sol = scp.integrate.solve_ivp(lotkavolterra, [0, n], [x_0, y_0], args=[a, b, c, d],\n",
    "                dense_output=True)\n",
    "    t = np.linspace(0, n, no_of_values)\n",
    "    z = sol.sol(t)\n",
    "    plt.plot(t, z.T)\n",
    "    plt.grid(True)\n",
    "    plt.xlabel('x'); plt.ylabel('y')\n",
    "    plt.legend(('Rabbits', 'Foxes'), loc=0)\n",
    "    plt.show()\n",
    "    plt.plot(z.T[:,0], z.T[:,1],'--')\n",
    "    plt.grid(True)\n",
    "interact(lotkavol, \n",
    "         x_0 = widgets.FloatSlider(min=0, max=100, step=0.5, value=10),\n",
    "         y_0 = widgets.FloatSlider(min=0, max=100, step=0.5, value=6),\n",
    "         a = widgets.FloatSlider(min=0, max=5, step=0.01, value=1),\n",
    "         b = widgets.FloatSlider(min=0, max=5, step=0.01, value=0.25),\n",
    "         c = widgets.FloatSlider(min=0, max=5, step=0.01, value=0.6),\n",
    "         d = widgets.FloatSlider(min=0, max=5, step=0.01, value=0.2),\n",
    "         n = widgets.IntSlider(min=1, max=500, step=1, value=50),\n",
    "         no_of_values = widgets.IntSlider(min=100, max=10000, step=10, value=1000),\n",
    "        )"
   ]
  },
  {
   "cell_type": "markdown",
   "metadata": {},
   "source": [
    "### The Van Der Pol Diff Eqns"
   ]
  },
  {
   "cell_type": "code",
   "execution_count": 27,
   "metadata": {},
   "outputs": [
    {
     "data": {
      "application/vnd.jupyter.widget-view+json": {
       "model_id": "08263a3d559241bd9cc052b25c420eb7",
       "version_major": 2,
       "version_minor": 0
      },
      "text/plain": [
       "interactive(children=(IntSlider(value=50, description='n', max=500, min=1), IntSlider(value=1000, description=…"
      ]
     },
     "metadata": {},
     "output_type": "display_data"
    },
    {
     "data": {
      "text/plain": [
       "<function __main__.vander(n, no_of_values, x_0, y_0)>"
      ]
     },
     "execution_count": 27,
     "metadata": {},
     "output_type": "execute_result"
    }
   ],
   "source": [
    "def vander(n, no_of_values, x_0, y_0):\n",
    "    def vanderpol(t, z):\n",
    "        x, y = z\n",
    "        return [ \n",
    "            y, ## dX/dt\n",
    "            -x + (1 - x**2)*y ## dY/dt\n",
    "               ]\n",
    "    sol = scp.integrate.solve_ivp(vanderpol, [0, n], [x_0, y_0],\n",
    "                dense_output=True)\n",
    "    t = np.linspace(0, n, no_of_values)\n",
    "    z = sol.sol(t)\n",
    "    plt.plot(t, z.T)\n",
    "    plt.grid(True)\n",
    "    plt.xlabel('x'); plt.ylabel('y')\n",
    "    plt.legend(('x', 'y'), loc=0)\n",
    "    plt.show()\n",
    "    plt.plot(z.T[:,0], z.T[:,1],'--')\n",
    "    plt.grid(True)\n",
    "\n",
    "interact(vander, \n",
    "         x_0 = widgets.FloatSlider(min=0, max=100, step=0.5, value=2),\n",
    "         y_0 = widgets.FloatSlider(min=0, max=100, step=0.5, value=0),\n",
    "         n = widgets.IntSlider(min=1, max=500, step=1, value=50),\n",
    "         no_of_values = widgets.IntSlider(min=100, max=10000, step=10, value=1000),\n",
    "        )"
   ]
  },
  {
   "cell_type": "markdown",
   "metadata": {},
   "source": [
    "### The Henon Map"
   ]
  },
  {
   "cell_type": "code",
   "execution_count": 28,
   "metadata": {},
   "outputs": [
    {
     "data": {
      "application/vnd.jupyter.widget-view+json": {
       "model_id": "3564631de3a94ba2bb2a2863d7d3bc88",
       "version_major": 2,
       "version_minor": 0
      },
      "text/plain": [
       "interactive(children=(FloatSlider(value=0.5, description='x_0', max=1.0), FloatSlider(value=0.2, description='…"
      ]
     },
     "metadata": {},
     "output_type": "display_data"
    }
   ],
   "source": [
    "def henon(x_0, y_0, a, b, skip, n, lis):\n",
    "    x_n = x_0\n",
    "    y_n = y_0\n",
    "    arr_val1 = []\n",
    "    arr_val2 = []\n",
    "    for i in range(skip):\n",
    "        x_n, y_n = y_n + 1 - a*(x_n**2), b*x_n\n",
    "    for i in range(n):\n",
    "        arr_val1.append(x_n)\n",
    "        arr_val2.append(y_n)\n",
    "        x_n, y_n = y_n + 1 - a*(x_n**2), b*x_n\n",
    "    plt.plot(arr_val1, '.-')\n",
    "    plt.plot(arr_val2, '.-')\n",
    "    plt.xlim(0, n - 1)\n",
    "    plt.ylim(0, 1)\n",
    "    plt.show()\n",
    "    plt.grid(True)\n",
    "    plt.scatter(arr_val1,arr_val2, c='#003399', edgecolor='None', alpha=1, s=10)\n",
    "    if lis:\n",
    "        return np.array(list(zip(arr_val1,arr_val2)))\n",
    "interact(henon, \n",
    "         x_0=widgets.FloatSlider(min=0, max=1, step=0.1, value=0.5),\n",
    "         y_0=widgets.FloatSlider(min=0, max=1, step=0.1, value=0.2),\n",
    "         a=widgets.FloatSlider(min=0, max=5, step=0.01, value=1.4),\n",
    "         b=widgets.FloatSlider(min=0, max=5, step=0.01, value=0.2),\n",
    "         n=widgets.IntSlider(min=1, max=1000, step=1, value=100),\n",
    "         skip=widgets.IntSlider(min=1, max=1000, step=1, value=35),\n",
    "         lis=False);"
   ]
  },
  {
   "cell_type": "markdown",
   "metadata": {},
   "source": [
    "### The Lorentz Attractor"
   ]
  },
  {
   "cell_type": "code",
   "execution_count": 29,
   "metadata": {},
   "outputs": [
    {
     "data": {
      "application/vnd.jupyter.widget-view+json": {
       "model_id": "969c01f9081f48bca8de102858be4709",
       "version_major": 2,
       "version_minor": 0
      },
      "text/plain": [
       "interactive(children=(FloatSlider(value=10.0, description='x_0', step=0.5), FloatSlider(value=10.0, descriptio…"
      ]
     },
     "metadata": {},
     "output_type": "display_data"
    },
    {
     "data": {
      "text/plain": [
       "<function __main__.lorentzattractor(x_0, y_0, z_0, sigma, rho, beta, n, no_of_values)>"
      ]
     },
     "execution_count": 29,
     "metadata": {},
     "output_type": "execute_result"
    }
   ],
   "source": [
    "def lorentzattractor(x_0, y_0, z_0, sigma, rho, beta, n, no_of_values):\n",
    "    def lorentz(t, h, sigma, rho, beta):\n",
    "        x, y, z = h\n",
    "        return [\n",
    "            sigma*(y - x),\n",
    "            x*(rho - z) - y,\n",
    "            x*y - beta*z\n",
    "        ]\n",
    "    sol = scp.integrate.solve_ivp(lorentz, [0, n], [x_0, y_0, z_0], args=[sigma, rho, beta],\n",
    "                    dense_output=True)\n",
    "    t = np.linspace(0, n, no_of_values)\n",
    "    z = sol.sol(t)\n",
    "    plt.plot(t, z.T)\n",
    "    plt.grid(True)\n",
    "    plt.xlabel('t'); plt.ylabel('values')\n",
    "    plt.legend(('x', 'y', 'z'), loc=0)\n",
    "    fig = plt.figure()\n",
    "    ax = fig.add_axes([1, 1, 1, 1], projection='3d')\n",
    "    ax.set_xlabel('$X$')\n",
    "    ax.set_ylabel('$Y$')\n",
    "    ax.set_zlabel('$Z$')\n",
    "    ax.plot(z.T[:,0], z.T[:,1],z.T[:,2])\n",
    "    plt.grid(True)\n",
    "\n",
    "interact(lorentzattractor, \n",
    "         x_0 = widgets.FloatSlider(min=0, max=100, step=0.5, value=10),\n",
    "         y_0 = widgets.FloatSlider(min=0, max=100, step=0.5, value=10),\n",
    "         z_0 = widgets.FloatSlider(min=0, max=100, step=0.5, value=10),\n",
    "         sigma = widgets.FloatSlider(min=0, max=50, step=0.01, value=10),\n",
    "         rho = widgets.FloatSlider(min=0, max=50, step=0.01, value=28),\n",
    "         beta = widgets.FloatSlider(min=0, max=50, step=0.01, value=8/3),\n",
    "         n = widgets.IntSlider(min=1, max=500, step=1, value=10),\n",
    "         no_of_values = widgets.IntSlider(min=100, max=10000, step=10, value=1000),\n",
    "        )"
   ]
  },
  {
   "cell_type": "markdown",
   "metadata": {},
   "source": [
    "### The Rossler Attractor"
   ]
  },
  {
   "cell_type": "code",
   "execution_count": 30,
   "metadata": {},
   "outputs": [
    {
     "data": {
      "application/vnd.jupyter.widget-view+json": {
       "model_id": "07ef6c87bf364a72a59f000695434543",
       "version_major": 2,
       "version_minor": 0
      },
      "text/plain": [
       "interactive(children=(IntSlider(value=200, description='n', max=500, min=1), IntSlider(value=10000, descriptio…"
      ]
     },
     "metadata": {},
     "output_type": "display_data"
    },
    {
     "data": {
      "text/plain": [
       "<function __main__.rosslerattractor(n, no_of_values, x_0, y_0, z_0, a, b, c)>"
      ]
     },
     "execution_count": 30,
     "metadata": {},
     "output_type": "execute_result"
    }
   ],
   "source": [
    "def rosslerattractor(n, no_of_values, x_0, y_0, z_0, a, b, c):\n",
    "    def rossler(t, h, a, b, c):\n",
    "        x, y, z = h\n",
    "        return [\n",
    "            -y - z,\n",
    "            x + a * y,\n",
    "            b + z * (x - c)\n",
    "        ]\n",
    "    sol = scp.integrate.solve_ivp(rossler, [0, n], [x_0, y_0, z_0], args=[a, b, c],\n",
    "                    dense_output=True)\n",
    "    t = np.linspace(0, n, no_of_values)\n",
    "    z = sol.sol(t)\n",
    "    plt.plot(t, z.T)\n",
    "    plt.grid(True)\n",
    "    plt.xlabel('t'); plt.ylabel('values')\n",
    "    plt.legend(('x', 'y', 'z'), loc=0)\n",
    "    fig = plt.figure()\n",
    "    ax = fig.add_axes([1, 1, 1, 1], projection='3d')\n",
    "    ax.set_xlabel('$X$')\n",
    "    ax.set_ylabel('$Y$')\n",
    "    ax.set_zlabel('$Z$')\n",
    "    ax.plot(z.T[:,0], z.T[:,1],z.T[:,2])\n",
    "    plt.grid(True)\n",
    "\n",
    "interact(rosslerattractor, \n",
    "         x_0 = widgets.FloatSlider(min=0, max=100, step=0.5, value=2),\n",
    "         y_0 = widgets.FloatSlider(min=0, max=100, step=0.5, value=2),\n",
    "         z_0 = widgets.FloatSlider(min=0, max=100, step=0.5, value=2),\n",
    "         a = widgets.FloatSlider(min=0, max=50, step=0.01, value=0.432),\n",
    "         b = widgets.FloatSlider(min=0, max=50, step=0.01, value=2.0),\n",
    "         c = widgets.FloatSlider(min=0, max=50, step=0.01, value=4.0),\n",
    "         n = widgets.IntSlider(min=1, max=500, step=1, value=200),\n",
    "         no_of_values = widgets.IntSlider(min=1000, max=100000, step=10, value=10000),\n",
    "        )"
   ]
  },
  {
   "cell_type": "code",
   "execution_count": null,
   "metadata": {},
   "outputs": [],
   "source": []
  }
 ],
 "metadata": {
  "kernelspec": {
   "display_name": "Python 3.8.2 64-bit ('three8': conda)",
   "language": "python",
   "name": "python38264bitthree8condac5664901842a423ba0f6a1b608e8c6dd"
  },
  "language_info": {
   "codemirror_mode": {
    "name": "ipython",
    "version": 3
   },
   "file_extension": ".py",
   "mimetype": "text/x-python",
   "name": "python",
   "nbconvert_exporter": "python",
   "pygments_lexer": "ipython3",
   "version": "3.8.2"
  }
 },
 "nbformat": 4,
 "nbformat_minor": 4
}
